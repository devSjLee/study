{
 "cells": [
  {
   "cell_type": "code",
   "execution_count": 1,
   "id": "a4e613dc-8359-4959-9313-d381c97839d7",
   "metadata": {},
   "outputs": [
    {
     "name": "stdout",
     "output_type": "stream",
     "text": [
      "<class 'bool'>\n"
     ]
    }
   ],
   "source": [
    "#불 자료형 - 참과 거짓을 나타내는 자료형\n",
    "# 파이썬은 대소문자 구별하기 때문에 True, False로 정확히 사용\n",
    "a = True\n",
    "print(type(a))"
   ]
  },
  {
   "cell_type": "code",
   "execution_count": 5,
   "id": "6fe355da-13ae-4857-93e3-fa55e07b899f",
   "metadata": {},
   "outputs": [
    {
     "name": "stdout",
     "output_type": "stream",
     "text": [
      "False\n",
      "True\n"
     ]
    }
   ],
   "source": [
    "#내장함수 bool()로 참거짓 확인가능\n",
    "print(bool(\"\"))\n",
    "print(bool(\"123\"))"
   ]
  },
  {
   "cell_type": "code",
   "execution_count": 7,
   "id": "2264bd28-28cb-489f-aa52-d678941bf27c",
   "metadata": {},
   "outputs": [
    {
     "name": "stdout",
     "output_type": "stream",
     "text": [
      "True\n",
      "True\n",
      "True\n"
     ]
    }
   ],
   "source": [
    "#관계 연산자 (비교 연산자)\n",
    "print(1==1)\n",
    "print(1>0)\n",
    "print(1 != 0)"
   ]
  },
  {
   "cell_type": "code",
   "execution_count": 9,
   "id": "ddf59cf0-651a-41b4-ab80-ee7639ac74ff",
   "metadata": {},
   "outputs": [
    {
     "name": "stdout",
     "output_type": "stream",
     "text": [
      "True\n"
     ]
    }
   ],
   "source": [
    "#논리연산자\n",
    "#and, or, not\n",
    "a = True\n",
    "b = True\n",
    "print(a and b)"
   ]
  },
  {
   "cell_type": "code",
   "execution_count": 15,
   "id": "ae6c83c2-688d-47c5-a560-b6027804b8b3",
   "metadata": {},
   "outputs": [
    {
     "name": "stdout",
     "output_type": "stream",
     "text": [
      "True\n",
      "False\n"
     ]
    }
   ],
   "source": [
    "a = True\n",
    "b = False\n",
    "print(a or b)\n",
    "print(not a)"
   ]
  },
  {
   "cell_type": "code",
   "execution_count": 19,
   "id": "b30bd702-9b53-4bbf-9ab5-5e44e1dededd",
   "metadata": {},
   "outputs": [
    {
     "name": "stdout",
     "output_type": "stream",
     "text": [
      "b\n",
      "a\n"
     ]
    }
   ],
   "source": [
    "# and 와 or 의 출력\n",
    "# and - 오른쪽 출력\n",
    "# or - 왼쪽 출력\n",
    "print(\"a\" and \"b\")\n",
    "print(\"a\" or \"b\")"
   ]
  },
  {
   "cell_type": "code",
   "execution_count": 21,
   "id": "12de7942-5f65-4192-ba7a-363f87704c2f",
   "metadata": {},
   "outputs": [],
   "source": [
    "# 조건문 - 실행을 제어하기 위한 제어문중 하나\n",
    "# if(조건) :\n",
    "    #들여쓰기(tab)"
   ]
  },
  {
   "cell_type": "code",
   "execution_count": 23,
   "id": "bb3a2994-4f8b-4d3a-ac06-61ae07083ba9",
   "metadata": {},
   "outputs": [
    {
     "name": "stdout",
     "output_type": "stream",
     "text": [
      "1\n"
     ]
    }
   ],
   "source": [
    "if (True):\n",
    "    print(1)"
   ]
  },
  {
   "cell_type": "code",
   "execution_count": 25,
   "id": "10f06b08-46ba-4c53-98bd-40407c91547d",
   "metadata": {},
   "outputs": [
    {
     "name": "stdout",
     "output_type": "stream",
     "text": [
      "2\n"
     ]
    }
   ],
   "source": [
    "if(False):\n",
    "    print(1)\n",
    "print(2)"
   ]
  },
  {
   "cell_type": "code",
   "execution_count": 27,
   "id": "85f559c8-8bfd-43ce-be98-c430dd7c0851",
   "metadata": {},
   "outputs": [
    {
     "name": "stdout",
     "output_type": "stream",
     "text": [
      "1\n"
     ]
    }
   ],
   "source": [
    "# if elif else 조건문 - 조건이 같지않도록 주의\n",
    "a = 2\n",
    "if (a==2):\n",
    "    print(1)\n",
    "elif (a==1):\n",
    "    print(2)\n",
    "else:\n",
    "    print(4)"
   ]
  },
  {
   "cell_type": "code",
   "execution_count": 29,
   "id": "5d05c790-e72b-426e-baca-501348453d14",
   "metadata": {},
   "outputs": [
    {
     "name": "stdout",
     "output_type": "stream",
     "text": [
      "2\n"
     ]
    }
   ],
   "source": [
    "#중첩 조건문\n",
    "a=1\n",
    "b=2\n",
    "if (a==1):\n",
    "    if(b==3):\n",
    "        print(1)\n",
    "    else:\n",
    "        print(2)\n",
    "else:\n",
    "    print(3)"
   ]
  },
  {
   "cell_type": "code",
   "execution_count": 31,
   "id": "fb0c639e-8228-4b35-ae26-be9a1104740c",
   "metadata": {},
   "outputs": [
    {
     "name": "stdout",
     "output_type": "stream",
     "text": [
      "2\n"
     ]
    }
   ],
   "source": [
    "#조건문의 활용\n",
    "#관계, 논리 연산자를 활용해 복잡한 조건의 프로그램 제어 가능\n",
    "a=2\n",
    "b=1\n",
    "if a==1:\n",
    "    print('1')\n",
    "    if b==1:\n",
    "        print('11')\n",
    "elif a==2:\n",
    "    print('2')\n",
    "else:\n",
    "    print('3')"
   ]
  },
  {
   "cell_type": "code",
   "execution_count": 33,
   "id": "84b04540-3646-43e7-903f-c06ca6d60f24",
   "metadata": {},
   "outputs": [
    {
     "name": "stdout",
     "output_type": "stream",
     "text": [
      "a is 1\n"
     ]
    }
   ],
   "source": [
    "#조건부 표현식 - 여러줄의 복잡한 조건문을 한 줄로 표현 가능\n",
    "a=1\n",
    "msg2 = \"a is 1\" if(a==1) else \"a is not 1\"\n",
    "print(msg2)"
   ]
  },
  {
   "cell_type": "code",
   "execution_count": 43,
   "id": "c7d3f155-8876-40fd-bccb-bd698f10f54f",
   "metadata": {},
   "outputs": [
    {
     "name": "stdin",
     "output_type": "stream",
     "text": [
      "키를 입력해주세요:  157\n",
      "몸무게를 입력해주세요:  50\n"
     ]
    },
    {
     "name": "stdout",
     "output_type": "stream",
     "text": [
      "여자\n"
     ]
    }
   ],
   "source": [
    "a = int(input(\"키를 입력해주세요: \"))\n",
    "b = int(input(\"몸무게를 입력해주세요: \"))\n",
    "\n",
    "if(a > 180):\n",
    "    print('남자')\n",
    "elif (b < 160):\n",
    "    print('여자')\n",
    "else:\n",
    "    if(b < (a-110)):\n",
    "        print('여자')\n",
    "    else:\n",
    "        print('남자')\n",
    "   "
   ]
  },
  {
   "cell_type": "code",
   "execution_count": 45,
   "id": "b8a50172-387a-404b-ad71-06fd22ab63ac",
   "metadata": {},
   "outputs": [
    {
     "name": "stdout",
     "output_type": "stream",
     "text": [
      "a는 양수입니다 a는 0이 아닙니다\n"
     ]
    }
   ],
   "source": [
    "a=1\n",
    "msg = 'a는 양수입니다' if(a>0) else 'a는 음수입니다'\n",
    "msg2 = 'a는 0입니다' if(a==0) else 'a는 0이 아닙니다'\n",
    "print(msg,msg2)"
   ]
  },
  {
   "cell_type": "code",
   "execution_count": null,
   "id": "b9498eb0-aa73-4bba-a4fa-c7f649deb8ee",
   "metadata": {},
   "outputs": [],
   "source": []
  }
 ],
 "metadata": {
  "kernelspec": {
   "display_name": "Python [conda env:base] *",
   "language": "python",
   "name": "conda-base-py"
  },
  "language_info": {
   "codemirror_mode": {
    "name": "ipython",
    "version": 3
   },
   "file_extension": ".py",
   "mimetype": "text/x-python",
   "name": "python",
   "nbconvert_exporter": "python",
   "pygments_lexer": "ipython3",
   "version": "3.12.7"
  }
 },
 "nbformat": 4,
 "nbformat_minor": 5
}
