{
 "cells": [
  {
   "cell_type": "code",
   "execution_count": 1,
   "id": "26589688-3b4c-4f3e-946f-492ea2dda9c1",
   "metadata": {},
   "outputs": [
    {
     "name": "stdout",
     "output_type": "stream",
     "text": [
      "12\n"
     ]
    }
   ],
   "source": [
    "#문자열 자료형의 연산\n",
    "print('1'+'2')"
   ]
  },
  {
   "cell_type": "code",
   "execution_count": 3,
   "id": "be838e1e-7970-4d26-95ee-b23dd9c2f910",
   "metadata": {},
   "outputs": [
    {
     "name": "stdout",
     "output_type": "stream",
     "text": [
      "222\n"
     ]
    }
   ],
   "source": [
    "#반복연산자 (*)\n",
    "print('2' * 3)"
   ]
  },
  {
   "cell_type": "code",
   "execution_count": 11,
   "id": "6eb7e21a-c010-415a-8b7e-054761d5c88a",
   "metadata": {},
   "outputs": [
    {
     "name": "stdout",
     "output_type": "stream",
     "text": [
      "안\n",
      "요\n"
     ]
    }
   ],
   "source": [
    "#선택 연산자 (인덱싱)\n",
    "a = '안녕하세요'\n",
    "print(a[0])\n",
    "print(a[-1]) #거꾸로"
   ]
  },
  {
   "cell_type": "code",
   "execution_count": 15,
   "id": "d7aa5c8c-86c1-46b9-b528-44c4e83ceea6",
   "metadata": {},
   "outputs": [
    {
     "name": "stdout",
     "output_type": "stream",
     "text": [
      "녕하\n",
      "안하요\n"
     ]
    }
   ],
   "source": [
    "#범위 선택 연산자 (슬라이싱)\n",
    "a = '안녕하세요'\n",
    "print(a[1:3])\n",
    "print(a[0:5:2])"
   ]
  },
  {
   "cell_type": "code",
   "execution_count": 17,
   "id": "69c0d448-b735-421e-a0ba-d03b5d09d326",
   "metadata": {},
   "outputs": [
    {
     "name": "stdout",
     "output_type": "stream",
     "text": [
      "요세하녕안\n"
     ]
    }
   ],
   "source": [
    "#역순정렬\n",
    "a='안녕하세요'\n",
    "print(a[::-1])"
   ]
  },
  {
   "cell_type": "code",
   "execution_count": 19,
   "id": "add32d16-2926-4b98-9677-182e4450090d",
   "metadata": {},
   "outputs": [
    {
     "name": "stdout",
     "output_type": "stream",
     "text": [
      "1234567\n"
     ]
    }
   ],
   "source": [
    "#슬라이싱, 연결\n",
    "a='12345'\n",
    "b='34567'\n",
    "c = a[0:3] + b[1:]\n",
    "print(c)"
   ]
  },
  {
   "cell_type": "code",
   "execution_count": 21,
   "id": "77b53358-a283-48ad-bab3-38a5177cb50d",
   "metadata": {},
   "outputs": [
    {
     "name": "stdout",
     "output_type": "stream",
     "text": [
      "123456789\n"
     ]
    }
   ],
   "source": [
    "#스텝활용\n",
    "a = '1,2,3,4,5,6,7,8,9'\n",
    "print(a[::2])"
   ]
  },
  {
   "cell_type": "code",
   "execution_count": 23,
   "id": "7ee798ed-2746-4083-922e-c16f1b899a87",
   "metadata": {},
   "outputs": [],
   "source": [
    "#문자열 메소드"
   ]
  },
  {
   "cell_type": "code",
   "execution_count": 29,
   "id": "2d32550d-4dbb-46be-92a8-766d32f41614",
   "metadata": {},
   "outputs": [],
   "source": [
    "#문자열 메소드의 종류와 활용법\n",
    "a = 'abcdefghi'\n",
    "# a[1] = '3' (문자열은 변경 불가, 오류)"
   ]
  },
  {
   "cell_type": "code",
   "execution_count": 33,
   "id": "8c9623d4-cfdb-42f4-bd9e-6f3461629f55",
   "metadata": {},
   "outputs": [
    {
     "name": "stdout",
     "output_type": "stream",
     "text": [
      "ABCDEFGHI\n",
      "abcdefghi\n"
     ]
    }
   ],
   "source": [
    "#upper() - 대문자로\n",
    "print(a.upper())\n",
    "\n",
    "#lower() - 소문자로\n",
    "print(a.lower())"
   ]
  },
  {
   "cell_type": "code",
   "execution_count": 35,
   "id": "4f7a20b9-4fca-46ae-9cf3-b565eccd89c2",
   "metadata": {},
   "outputs": [
    {
     "name": "stdout",
     "output_type": "stream",
     "text": [
      "ABcdEFGhI\n"
     ]
    }
   ],
   "source": [
    "#swapcase() - 대문자는 소문자로, 소문자는 대문자로\n",
    "a = 'abCDefgHi'\n",
    "print(a.swapcase())"
   ]
  },
  {
   "cell_type": "code",
   "execution_count": 37,
   "id": "fd5bbd3a-3f58-4558-94c8-eb4446a961cd",
   "metadata": {},
   "outputs": [
    {
     "name": "stdout",
     "output_type": "stream",
     "text": [
      "Abcd abcd\n"
     ]
    }
   ],
   "source": [
    "#capitalize() - 첫 문자만 대문자로 변경\n",
    "a = 'abcd abcd'\n",
    "print(a.capitalize())"
   ]
  },
  {
   "cell_type": "code",
   "execution_count": 39,
   "id": "927d5c83-0d5d-449a-ad03-1598c3e4143e",
   "metadata": {},
   "outputs": [
    {
     "name": "stdout",
     "output_type": "stream",
     "text": [
      "Abcd Abcd\n"
     ]
    }
   ],
   "source": [
    "#title() - 각 단어의 첫문자를 대문자로 변경\n",
    "a = 'abcd abcd'\n",
    "print(a.title())"
   ]
  },
  {
   "cell_type": "code",
   "execution_count": 43,
   "id": "e69febf7-db33-466c-8dc3-cea78d450e57",
   "metadata": {},
   "outputs": [
    {
     "name": "stdout",
     "output_type": "stream",
     "text": [
      "abcd efg\n"
     ]
    }
   ],
   "source": [
    "#strip() - 문자의 양쪽 끝을 잘라냄 (기본은 공백)\n",
    "a = '  abcd efg    '\n",
    "print(a.strip())\n",
    "\n",
    "#lstrip() - 왼쪽 끝 자름\n",
    "#rstrip() - 오른쪽 끝 자름"
   ]
  },
  {
   "cell_type": "code",
   "execution_count": 45,
   "id": "57d7c8e0-8b90-46d3-b800-6f162651399d",
   "metadata": {},
   "outputs": [
    {
     "name": "stdout",
     "output_type": "stream",
     "text": [
      "['ab', 'de']\n"
     ]
    }
   ],
   "source": [
    "#split() - 문자열을 구분자로 분리해 리스트로 반환\n",
    "a = 'abcde'\n",
    "print(a.split('c'))"
   ]
  },
  {
   "cell_type": "code",
   "execution_count": 47,
   "id": "e2f7638e-7cd0-41d3-98cb-06729cdba2f1",
   "metadata": {},
   "outputs": [
    {
     "name": "stdout",
     "output_type": "stream",
     "text": [
      "['abcd', 'efgh']\n"
     ]
    }
   ],
   "source": [
    "#splitlines() - 문자열을 라인단위로 분리해 리스트로 반환\n",
    "a = '''abcd\n",
    "efgh'''\n",
    "print(a.splitlines())"
   ]
  },
  {
   "cell_type": "code",
   "execution_count": 49,
   "id": "5e03e9b6-6d77-4042-96d0-8018ad3fc0fe",
   "metadata": {},
   "outputs": [],
   "source": [
    "#index() - 해당 문자열의 인덱스를 반환 (없으면 에러)\n",
    "a = 'abcdef'\n",
    "print(a.index('a'))"
   ]
  },
  {
   "cell_type": "code",
   "execution_count": 57,
   "id": "c0d13b60-8c16-4941-9c61-89b726476c0e",
   "metadata": {},
   "outputs": [
    {
     "name": "stdout",
     "output_type": "stream",
     "text": [
      "-1\n"
     ]
    }
   ],
   "source": [
    "#find() - 인덱스 반환 (없으면 -1)\n",
    "a = 'abcdef'\n",
    "print(a.find('j'))"
   ]
  },
  {
   "cell_type": "code",
   "execution_count": 59,
   "id": "23a4f88e-1f90-4d5f-a36f-83a315c80f27",
   "metadata": {},
   "outputs": [
    {
     "name": "stdout",
     "output_type": "stream",
     "text": [
      "Hello, World!\n"
     ]
    }
   ],
   "source": [
    "#변수를 활용하여 문자열을 생성할 때 사용\n",
    "a = \"{}, World!\".format(\"Hello\")\n",
    "print(a)"
   ]
  },
  {
   "cell_type": "code",
   "execution_count": 61,
   "id": "85f99fdd-0ba5-457a-9935-9d4abc95fe65",
   "metadata": {},
   "outputs": [
    {
     "name": "stdout",
     "output_type": "stream",
     "text": [
      "Hello, World\n"
     ]
    }
   ],
   "source": [
    "#여러 개를 사용하려면, 순서대로 값을 입력\n",
    "a = \"{}{}{}\".format(\"Hello\",\", \",\"World\")\n",
    "print(a)"
   ]
  },
  {
   "cell_type": "code",
   "execution_count": 63,
   "id": "d35d3abb-d752-455e-94c7-e545d78d2811",
   "metadata": {},
   "outputs": [
    {
     "name": "stdout",
     "output_type": "stream",
     "text": [
      "2, 2, (1, 2), [1, 2]\n"
     ]
    }
   ],
   "source": [
    "#중괄호에는 문자열이 아닌 다른 자료형이 올 수 있음\n",
    "a = \"{}, {}, {}, {}\".format(\"2\",2,(1,2),[1,2])\n",
    "print(a)"
   ]
  },
  {
   "cell_type": "code",
   "execution_count": 65,
   "id": "aa655fec-028d-4db2-8966-0516303b77e0",
   "metadata": {},
   "outputs": [
    {
     "name": "stdout",
     "output_type": "stream",
     "text": [
      ", World!Hello\n"
     ]
    }
   ],
   "source": [
    "#중괄호의 순서를 적어 포맷팅 출력 순서를 변경 가능\n",
    "a = \"{1}{2}{0}\".format(\"Hello\",\", \",\"World!\")\n",
    "print(a)"
   ]
  },
  {
   "cell_type": "code",
   "execution_count": 67,
   "id": "444a4ce3-229d-4b03-ac42-9f22927b1e01",
   "metadata": {},
   "outputs": [
    {
     "name": "stdout",
     "output_type": "stream",
     "text": [
      "Today is Monday, Tomorrow is Tuesday\n"
     ]
    }
   ],
   "source": [
    "#중괄호의 식별자를 적어 출력 가능\n",
    "a = \"Today is {today}, Tomorrow is {tomorrow}\".format(today=\"Monday\", tomorrow=\"Tuesday\")\n",
    "print(a)"
   ]
  },
  {
   "cell_type": "code",
   "execution_count": 73,
   "id": "2882de33-9091-4ee3-ad51-5387af4679da",
   "metadata": {},
   "outputs": [
    {
     "name": "stdout",
     "output_type": "stream",
     "text": [
      "0.3333333333333333\n",
      "0.33\n",
      "3.000000\n",
      "  4,        10\n"
     ]
    }
   ],
   "source": [
    "#자리표기 가능\n",
    "a = \"{}\".format(1/3)\n",
    "b = \"{:0.2}\".format(1/3)\n",
    "c = \"{:f}\".format(3)\n",
    "d = \"{:3},{:10}\".format(4,10)\n",
    "print(a)\n",
    "print(b)\n",
    "print(c)\n",
    "print(d)\n"
   ]
  },
  {
   "cell_type": "code",
   "execution_count": 75,
   "id": "ebd33321-3232-4f89-a84c-ca2ab5da31f3",
   "metadata": {},
   "outputs": [
    {
     "name": "stdout",
     "output_type": "stream",
     "text": [
      "1 더하기 1는 귀요미\n"
     ]
    }
   ],
   "source": [
    "print(\"{} 더하기 {}는 {}\".format(1,1,\"귀요미\"))"
   ]
  },
  {
   "cell_type": "code",
   "execution_count": 77,
   "id": "9f419d82-458e-4802-a2e8-5d028d93061d",
   "metadata": {},
   "outputs": [],
   "source": [
    "#실습"
   ]
  },
  {
   "cell_type": "code",
   "execution_count": 81,
   "id": "796eca7f-a435-4739-8a55-c9e3e53deb2d",
   "metadata": {},
   "outputs": [],
   "source": [
    "s = \"Today is December 31, 2020. Tomorrow is January 1, 2021.\""
   ]
  },
  {
   "cell_type": "code",
   "execution_count": 83,
   "id": "8677c859-5859-4bf1-8b2e-4db25c9e2449",
   "metadata": {},
   "outputs": [
    {
     "name": "stdout",
     "output_type": "stream",
     "text": [
      "['Today', 'is', 'December', '31,', '2020.', 'Tomorrow', 'is', 'January', '1,', '2021.']\n"
     ]
    }
   ],
   "source": [
    "print(s.split(\" \"))"
   ]
  },
  {
   "cell_type": "code",
   "execution_count": 93,
   "id": "17593bd2-befa-4e23-9933-1f61583c1086",
   "metadata": {},
   "outputs": [
    {
     "name": "stdout",
     "output_type": "stream",
     "text": [
      "['Today is December 31', ' 2020. Tomorrow is January 1', ' 2021.']\n"
     ]
    }
   ],
   "source": [
    "l = s.split(\",\")\n",
    "print(l)"
   ]
  },
  {
   "cell_type": "code",
   "execution_count": 97,
   "id": "64ddbc5c-81c0-4b63-9a1d-3cc25e504a89",
   "metadata": {},
   "outputs": [
    {
     "name": "stdout",
     "output_type": "stream",
     "text": [
      "31\n"
     ]
    }
   ],
   "source": [
    "l2 = l[0].split(\" \")\n",
    "print(l2[-1])"
   ]
  },
  {
   "cell_type": "code",
   "execution_count": 105,
   "id": "cb59190e-98cc-42ea-8711-8cc791f46e75",
   "metadata": {},
   "outputs": [
    {
     "name": "stdout",
     "output_type": "stream",
     "text": [
      "2\n",
      "3\n",
      "4\n",
      "5\n",
      "6\n",
      "7\n",
      "8\n",
      "9\n"
     ]
    }
   ],
   "source": [
    "a = 2\n",
    "for i in range(2,10):\n",
    "    print(i)\n",
    "\n",
    "    \n",
    "    \n"
   ]
  },
  {
   "cell_type": "code",
   "execution_count": 131,
   "id": "27ce79b3-c000-41c4-a996-713d4a8340a2",
   "metadata": {},
   "outputs": [
    {
     "name": "stdout",
     "output_type": "stream",
     "text": [
      "2 x 2.000000 = 4\n",
      "2 x 3 = 6\n",
      "2 x 4 = 8\n",
      "[2] x 5 = 10\n"
     ]
    }
   ],
   "source": [
    "print('2 x {:f}'.format(2), '=', '{}'.format(4))\n",
    "print('2 x {}'.format(3), '=', '{}'.format(6))\n",
    "print('2 x {}'.format(4), '=', '{}'.format(8))\n",
    "print('[2] x {}'.format(5), '=', '{}'.format(10))"
   ]
  },
  {
   "cell_type": "code",
   "execution_count": 153,
   "id": "c12f3cac-eb90-448b-89f0-9c60916ad623",
   "metadata": {},
   "outputs": [
    {
     "name": "stdout",
     "output_type": "stream",
     "text": [
      "2 x 9.0 = 18.0\n"
     ]
    }
   ],
   "source": [
    "print('2 x {:0.1f} = {:0.1f}'.format(9,18))"
   ]
  },
  {
   "cell_type": "code",
   "execution_count": null,
   "id": "da98fda4-0df8-4c6e-a31d-f214636c2c78",
   "metadata": {},
   "outputs": [],
   "source": []
  }
 ],
 "metadata": {
  "kernelspec": {
   "display_name": "Python [conda env:base] *",
   "language": "python",
   "name": "conda-base-py"
  },
  "language_info": {
   "codemirror_mode": {
    "name": "ipython",
    "version": 3
   },
   "file_extension": ".py",
   "mimetype": "text/x-python",
   "name": "python",
   "nbconvert_exporter": "python",
   "pygments_lexer": "ipython3",
   "version": "3.12.7"
  }
 },
 "nbformat": 4,
 "nbformat_minor": 5
}
